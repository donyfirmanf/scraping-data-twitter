{
  "nbformat": 4,
  "nbformat_minor": 0,
  "metadata": {
    "colab": {
      "provenance": []
    },
    "kernelspec": {
      "name": "python3",
      "display_name": "Python 3"
    }
  },
  "cells": [
    {
      "cell_type": "code",
      "metadata": {
        "id": "p3NxU6R97vhw"
      },
      "source": [
        "import tweepy\n",
        "from tweepy import OAuthHandler\n",
        "import pandas as pd\n",
        "import re\n",
        "import numpy as np\n",
        "import matplotlib.pyplot as plt\n",
        "import json"
      ],
      "execution_count": null,
      "outputs": []
    },
    {
      "cell_type": "code",
      "metadata": {
        "id": "5o6xRlnZ7zJU"
      },
      "source": [
        "consumer_key = '8eF4lZTlC8KkbjEripts8q4qN'\n",
        "consumer_secret = 'uUx9x5mzRRPrb6XJM4zroNpE1d1qIYzS5FE3XTW1iV2MVjmjRU'\n",
        "access_token = '98633155-EIx0qO9kqL7tmc6Zr2LxwzKKhgpf9pv6CrnOOnkTO'\n",
        "access_token_secret = 'jFEP3DLliN81b2mUALaLUOcDYNu0ppgmSsYbbzBhbVpXX'"
      ],
      "execution_count": null,
      "outputs": []
    },
    {
      "cell_type": "code",
      "metadata": {
        "id": "hvyM7nWV71yd"
      },
      "source": [
        "auth = tweepy.OAuthHandler(consumer_key, consumer_secret)\n",
        "auth.set_access_token(access_token, access_token_secret)\n",
        "api = tweepy.API(auth)"
      ],
      "execution_count": null,
      "outputs": []
    },
    {
      "cell_type": "code",
      "metadata": {
        "id": "tqTDrgHx8Pnw"
      },
      "source": [
        "Indonesia_woe = 23424846\n",
        "    \n",
        "trends = api.trends_place(Indonesia_woe)\n",
        "for item in (trends[0]['trends']):\n",
        "       print (item['name'])"
      ],
      "execution_count": null,
      "outputs": []
    },
    {
      "cell_type": "code",
      "metadata": {
        "id": "AHKMLd6w8QRC"
      },
      "source": [
        "search_words = \"Jouska\"\n",
        "date_since = \"2020-07-25\"\n",
        "new_search = search_words + \" -filter:retweets\"\n",
        "\n",
        "tweets = tweepy.Cursor(api.search,tweet_mode='extended',\n",
        "        q=new_search,\n",
        "        lang=\"id\",\n",
        "        since=date_since).items(50)"
      ],
      "execution_count": null,
      "outputs": []
    },
    {
      "cell_type": "code",
      "metadata": {
        "id": "tI6KGRpd9ORJ"
      },
      "source": [
        "items = []\n",
        "for tweet in tweets:\n",
        "  item = []\n",
        "  item.append (tweet.user.screen_name)\n",
        "  item.append (tweet.user.location)\n",
        "  item.append (' '.join(re.sub(\"(@[A-Za-z0-9]+)|([^0-9A-Za-z \\t])|(\\w+:\\/\\/\\S+)\", \" \", tweet.full_text).split()))\n",
        "  items.append(item)\n",
        "hasil = pd.DataFrame(data=items, columns=['User', 'Lokasi', 'Tweet'])\n",
        "hasil"
      ],
      "execution_count": null,
      "outputs": []
    },
    {
      "cell_type": "code",
      "metadata": {
        "id": "ImawJW927AQx"
      },
      "source": [
        "json_data = hasil.to_json(orient='split')"
      ],
      "execution_count": null,
      "outputs": []
    },
    {
      "cell_type": "code",
      "metadata": {
        "id": "XJ110cNR_qi5",
        "colab": {
          "base_uri": "https://localhost:8080/",
          "height": 1000
        },
        "outputId": "4b0e800c-8a87-4756-ea92-2f0a6b7b5494"
      },
      "source": [
        "parsed = json.loads(json_data)\n",
        "print(json.dumps(parsed, indent=7, sort_keys=False))"
      ],
      "execution_count": null,
      "outputs": [
        {
          "output_type": "stream",
          "text": [
            "{\n",
            "       \"User\": {\n",
            "              \"0\": \"gilangbungkus\",\n",
            "              \"1\": \"jouska_sweet\",\n",
            "              \"2\": \"spamenanjr\",\n",
            "              \"3\": \"litanara\",\n",
            "              \"4\": \"litanara\",\n",
            "              \"5\": \"LokadataID\",\n",
            "              \"6\": \"rizqihijriah\",\n",
            "              \"7\": \"luwandiko\",\n",
            "              \"8\": \"AjiGunS\",\n",
            "              \"9\": \"wanprestation\",\n",
            "              \"10\": \"miamarifah\",\n",
            "              \"11\": \"ekkynandaputra\",\n",
            "              \"12\": \"KATADATAcoid\",\n",
            "              \"13\": \"FarelGiffari\",\n",
            "              \"14\": \"jouska_sweet\",\n",
            "              \"15\": \"3ndi\",\n",
            "              \"16\": \"satrioajie\",\n",
            "              \"17\": \"19mei_\",\n",
            "              \"18\": \"mendoanitrust\",\n",
            "              \"19\": \"rheihanlfc\",\n",
            "              \"20\": \"Bisniscom\",\n",
            "              \"21\": \"TirtoID\",\n",
            "              \"22\": \"JackalHoliday\",\n",
            "              \"23\": \"ambank_mr\",\n",
            "              \"24\": \"annisacan_\",\n",
            "              \"25\": \"kompasiana\",\n",
            "              \"26\": \"AdiGunarta13\",\n",
            "              \"27\": \"irfn_xyz\",\n",
            "              \"28\": \"Hmei271\",\n",
            "              \"29\": \"Magari_Jouska\",\n",
            "              \"30\": \"kukuh239\",\n",
            "              \"31\": \"PSNingrum\",\n",
            "              \"32\": \"ikankodd\",\n",
            "              \"33\": \"so_vintja\",\n",
            "              \"34\": \"ladazaa\",\n",
            "              \"35\": \"makmummasjid\",\n",
            "              \"36\": \"azirizky\",\n",
            "              \"37\": \"bishamonten__\",\n",
            "              \"38\": \"lordmember\",\n",
            "              \"39\": \"kacungjalanan\",\n",
            "              \"40\": \"kacungjalanan\",\n",
            "              \"41\": \"kacungjalanan\",\n",
            "              \"42\": \"kacungjalanan\",\n",
            "              \"43\": \"kacungjalanan\",\n",
            "              \"44\": \"pisangmadu\",\n",
            "              \"45\": \"Dinar13nugroho\",\n",
            "              \"46\": \"ardianofauzy\",\n",
            "              \"47\": \"ris_haswa\",\n",
            "              \"48\": \"koreisreal\",\n",
            "              \"49\": \"alyssaziya\"\n",
            "       },\n",
            "       \"Lokasi\": {\n",
            "              \"0\": \"\",\n",
            "              \"1\": \"\",\n",
            "              \"2\": \"Jakarta-Bandung \",\n",
            "              \"3\": \"metaverse\",\n",
            "              \"4\": \"metaverse\",\n",
            "              \"5\": \"Jakarta Capital Region\",\n",
            "              \"6\": \"Jatinangor\",\n",
            "              \"7\": \"Jakarta, IDN\",\n",
            "              \"8\": \"Indonesia- \",\n",
            "              \"9\": \"Bego, Nigeria\",\n",
            "              \"10\": \"Indonesia\",\n",
            "              \"11\": \"\",\n",
            "              \"12\": \"Jakarta\",\n",
            "              \"13\": \"Surabaya, East Java\",\n",
            "              \"14\": \"\",\n",
            "              \"15\": \"Ahh... around you....\",\n",
            "              \"16\": \"Indonesia\",\n",
            "              \"17\": \"\",\n",
            "              \"18\": \"\",\n",
            "              \"19\": \"Jakarta Timur, DKI Jakarta\",\n",
            "              \"20\": \"Jakarta, Indonesia\",\n",
            "              \"21\": \"Indonesia\",\n",
            "              \"22\": \"Gelora Bandung Lautan Api\",\n",
            "              \"23\": \"\\u00dcT: 0.0,0.0\",\n",
            "              \"24\": \"\",\n",
            "              \"25\": \"Indonesia\",\n",
            "              \"26\": \"Bali\",\n",
            "              \"27\": \"Banda Aceh, Aceh\",\n",
            "              \"28\": \"\",\n",
            "              \"29\": \"\",\n",
            "              \"30\": \"Sidoarjo, East Java\",\n",
            "              \"31\": \"Juwana, Indonesia\",\n",
            "              \"32\": \"\\u262d\",\n",
            "              \"33\": \"East Java, Indonesia\",\n",
            "              \"34\": \"Kota Makassar, Sulawesi Selatan\",\n",
            "              \"35\": \"ask.renne@gmail.com\",\n",
            "              \"36\": \"Balikpapan - Jakarta\",\n",
            "              \"37\": \"\",\n",
            "              \"38\": \"West Java, Indonesia\",\n",
            "              \"39\": \"\",\n",
            "              \"40\": \"\",\n",
            "              \"41\": \"\",\n",
            "              \"42\": \"\",\n",
            "              \"43\": \"\",\n",
            "              \"44\": \"\",\n",
            "              \"45\": \"karanganyar - sragen  \",\n",
            "              \"46\": \"Indonesia\",\n",
            "              \"47\": \"Sidoarjo - Bogor\",\n",
            "              \"48\": \"Jakarta Capital Region, Indonesia\",\n",
            "              \"49\": \"\"\n",
            "       },\n",
            "       \"Tweet\": {\n",
            "              \"0\": \"sweet edw Dek mas boleh minta tolong\",\n",
            "              \"1\": \"edw Bungkus aja lah lele\",\n",
            "              \"2\": \"Kasus bungkus membungkus mengalihkan perhatian publik dari kasus sindikasi dan jouska\",\n",
            "              \"3\": \"iyalo aku pas ada thread jouska itu baru baca twit awal wes tak close sampe mas ku bahas itu aku ya ga paham blas\",\n",
            "              \"4\": \"kelar baca thread gilang bungkus lebih niat baca itu timbang dishare soal jouska dan saham\",\n",
            "              \"5\": \"Infografik Seputar Jouska perusahaan perencana keuangan yang juga mengelola uang klien tapi klien dirugikan WaktunyaLokadata\",\n",
            "              \"6\": \"Sekarang itu lagi bener bener butuh banget financial advice Alhamdulillah temen ada yang kerja di financial planner namun bukan jouska\",\n",
            "              \"7\": \"TIPS KELOLA KEUANGAN ALA MILLENIAL BERSAMA JOUSKA MARKET REVIEW FULL via\",\n",
            "              \"8\": \"Thanks kain jarik jouska skrg napasnya agak entengan\",\n",
            "              \"9\": \"BILANG DONG KIRAIN MAH AMERTANYA JOUSKA\",\n",
            "              \"10\": \"Can anybody tell jouska ini masalahnya apa aja sih\",\n",
            "              \"11\": \"Gara gara perbungkusan jadi lupa kasus Jouska pake sendal ke cafe pendaratan di bulan korek yg ilang di tongkrongan\",\n",
            "              \"12\": \"Satgas Waspada Investasi menyetop operasional Jouska karena tak memiliki izin Ini lima aplikasi perencana keuangan alternatif\",\n",
            "              \"13\": \"Sanksi sosial sekejam itu ya setelah liat efek kasusnya jouska pstore sampe gilang bungkus\",\n",
            "              \"14\": \"Cuyungg BesokJadian 31BarengKeisya\",\n",
            "              \"15\": \"Jouska aja ampe tutup dok Terbius\",\n",
            "              \"16\": \"Masih tentang jouska\",\n",
            "              \"17\": \"Lol akun Aakar amp Jouska sudah lenyap di Instagram Miris reputasi yang dibangun dari konten konten ciamik ternyata ada sesuatu dibelakangnya lostrespect\",\n",
            "              \"18\": \"dih udh gabisa diakses lg\",\n",
            "              \"19\": \"Gegara kasus jouska gua jadi belajar kalau mau main saham dll mending titip ke\",\n",
            "              \"20\": \"5 Berita Populer Finansial Gurita Jouska Direktur Amarta Investa Cuan 420 Persen Dari LUCK dan BTPN Syariah BTPS Cetak Laba Rp407 Miliar\",\n",
            "              \"21\": \"Jouska dikatakan tak bisa mendeklarasikan dirinya sebagai perencana keuangan independen sebab kenyataannya mereka memiliki hubungan dengan perusahaan efek seperti manajer investasi bahkan CEO nya menjabat komisaris di perusahaan itu\",\n",
            "              \"22\": \"Lebih insecure melihat schoters daripada jouska\",\n",
            "              \"23\": \"Ramai ramai Terperosok Lantaran Jouska\",\n",
            "              \"24\": \"lah baru tau akun jouska ilang\",\n",
            "              \"25\": \"Strategi marketing yang diterapkan PS Store mengingatkan saya pada strategi marketing yang dilakukan Jouska dalam memasarkan produknya HLKompasiana\",\n",
            "              \"26\": \"Jumlah berita yg dibikin cnbc soal kasusnya jouska itu lebih dari 50 artikel Niat banget ini redaksinya ngerjain tugasnya\",\n",
            "              \"27\": \"Ngilu bacanya Gurita Jouska Direktur Amarta Investa Cuan 420 Persen Dari LUCK\",\n",
            "              \"28\": \"id Hahaha mati bunuh diri kali\",\n",
            "              \"29\": \"N Iman I will talk if I want to Sbb kalau dia peramah mcm mna pun sya rasa penat nk dengar n smpai kadang2 termengeluh depan dowg pun Usually selected like minded with me je yg sya akn rasa leh ngam huhu\",\n",
            "              \"30\": \"Ig jouska sama ignya mas aakar udah gak ada ya\",\n",
            "              \"31\": \"Ada sebuah kesamaan sebuah kesuksesan kampanye iklan yaitu beri sentuhan personal dengan sebut nama Contoh Anies Sandi gt Pak Hadi di Muara Angke bla bla bla Jouska gt Dinda Karyawan Gaji 30 juta bla bla bla\",\n",
            "              \"32\": \"Pada bahas isu jouska tp gatahu bearish itu apa\",\n",
            "              \"33\": \"pun jouska apa dah lupa\",\n",
            "              \"34\": \"thread gilang cuma pengalihan isu jouska jangan mudah terpancing 1 1 1 1 1 1\",\n",
            "              \"35\": \"karena jouska menghilang sekarang tugas menakut nakuti soal harta kembali ke tangan tetangga\",\n",
            "              \"36\": \"Jouska tutup akun Apakah ini permanen atau temporary disabled doang ya\",\n",
            "              \"37\": \"eh tapi gua kesel bgt dah jouska sampe tutup ya walaupun sementara sedih soalnya ni akun bermanfaat bgt buat gw kenal saham2 dari ni akun juga\",\n",
            "              \"38\": \"Jouska vs Gilang Bungkus\",\n",
            "              \"39\": \"Selain itu OJK juga menghentikan dua perusahaan yang terafiliasi dengan Jouska Dua perusahan tersebut yakni PT Mahesa Strategis Indonesia dan PT Amarta Investa Indonesia selaku rekan Jouska dalam pengelolaan dana nasabah\",\n",
            "              \"40\": \"Jouska juga dianggap menabrak tiga undang undang sekaligus Mulai dari UU Pasar Modal UU ITE serta UU Perlindungan Konsumen\",\n",
            "              \"41\": \"Kamis 30 7 2020 tidak ada lagi akun Instagram Jouska id Hanya ditemukan pengumuman bertuliskan Sorry this page isn t available Hilangnya akun Instagram Jouska id juga bersamaan hilangnya akun twitter dengan nama yang sama\",\n",
            "              \"42\": \"Setelah akun Instagram CEO Jouska hilang dari Instagram kini giliran akun id Minjou Jouska hilang dari Instagram\",\n",
            "              \"43\": \"Berita hari ini Goodbye Akhirnya Minjou Jouska Hilang dari Instagram\",\n",
            "              \"44\": \"p Abis w main saham atut kek jouska ntar\",\n",
            "              \"45\": \"Gabung jouska\",\n",
            "              \"46\": \"Drama Jouska berganti sama Gilang Bungkus\",\n",
            "              \"47\": \"Prita Ghozie Aidil Akbar Teguh Muhammad Eko Endarto trus siapa lagi yak Dulu sih follow pas di akun yg lama Klo Jouska emang gak pernah follow Alhamdulillah\",\n",
            "              \"48\": \"Awal Mula Jouska Mengapa Sampai Disetop Operasi\",\n",
            "              \"49\": \"CNBC punya dendam apa ya sama jouska wkwk\"\n",
            "       }\n",
            "}\n"
          ],
          "name": "stdout"
        }
      ]
    },
    {
      "cell_type": "code",
      "metadata": {
        "id": "7cPsSI7f_zqM",
        "colab": {
          "base_uri": "https://localhost:8080/",
          "height": 1000
        },
        "outputId": "8e1e96fd-eac2-418b-a804-ac3e5fa34d98"
      },
      "source": [
        "parsed = json.loads(json_data)\n",
        "print(json.dumps(parsed, indent=7, sort_keys=True))"
      ],
      "execution_count": null,
      "outputs": [
        {
          "output_type": "stream",
          "text": [
            "{\n",
            "       \"Lokasi\": {\n",
            "              \"0\": \"\",\n",
            "              \"1\": \"\",\n",
            "              \"10\": \"Indonesia\",\n",
            "              \"11\": \"\",\n",
            "              \"12\": \"Jakarta\",\n",
            "              \"13\": \"Surabaya, East Java\",\n",
            "              \"14\": \"\",\n",
            "              \"15\": \"Ahh... around you....\",\n",
            "              \"16\": \"Indonesia\",\n",
            "              \"17\": \"\",\n",
            "              \"18\": \"\",\n",
            "              \"19\": \"Jakarta Timur, DKI Jakarta\",\n",
            "              \"2\": \"Jakarta-Bandung \",\n",
            "              \"20\": \"Jakarta, Indonesia\",\n",
            "              \"21\": \"Indonesia\",\n",
            "              \"22\": \"Gelora Bandung Lautan Api\",\n",
            "              \"23\": \"\\u00dcT: 0.0,0.0\",\n",
            "              \"24\": \"\",\n",
            "              \"25\": \"Indonesia\",\n",
            "              \"26\": \"Bali\",\n",
            "              \"27\": \"Banda Aceh, Aceh\",\n",
            "              \"28\": \"\",\n",
            "              \"29\": \"\",\n",
            "              \"3\": \"metaverse\",\n",
            "              \"30\": \"Sidoarjo, East Java\",\n",
            "              \"31\": \"Juwana, Indonesia\",\n",
            "              \"32\": \"\\u262d\",\n",
            "              \"33\": \"East Java, Indonesia\",\n",
            "              \"34\": \"Kota Makassar, Sulawesi Selatan\",\n",
            "              \"35\": \"ask.renne@gmail.com\",\n",
            "              \"36\": \"Balikpapan - Jakarta\",\n",
            "              \"37\": \"\",\n",
            "              \"38\": \"West Java, Indonesia\",\n",
            "              \"39\": \"\",\n",
            "              \"4\": \"metaverse\",\n",
            "              \"40\": \"\",\n",
            "              \"41\": \"\",\n",
            "              \"42\": \"\",\n",
            "              \"43\": \"\",\n",
            "              \"44\": \"\",\n",
            "              \"45\": \"karanganyar - sragen  \",\n",
            "              \"46\": \"Indonesia\",\n",
            "              \"47\": \"Sidoarjo - Bogor\",\n",
            "              \"48\": \"Jakarta Capital Region, Indonesia\",\n",
            "              \"49\": \"\",\n",
            "              \"5\": \"Jakarta Capital Region\",\n",
            "              \"6\": \"Jatinangor\",\n",
            "              \"7\": \"Jakarta, IDN\",\n",
            "              \"8\": \"Indonesia- \",\n",
            "              \"9\": \"Bego, Nigeria\"\n",
            "       },\n",
            "       \"Tweet\": {\n",
            "              \"0\": \"sweet edw Dek mas boleh minta tolong\",\n",
            "              \"1\": \"edw Bungkus aja lah lele\",\n",
            "              \"10\": \"Can anybody tell jouska ini masalahnya apa aja sih\",\n",
            "              \"11\": \"Gara gara perbungkusan jadi lupa kasus Jouska pake sendal ke cafe pendaratan di bulan korek yg ilang di tongkrongan\",\n",
            "              \"12\": \"Satgas Waspada Investasi menyetop operasional Jouska karena tak memiliki izin Ini lima aplikasi perencana keuangan alternatif\",\n",
            "              \"13\": \"Sanksi sosial sekejam itu ya setelah liat efek kasusnya jouska pstore sampe gilang bungkus\",\n",
            "              \"14\": \"Cuyungg BesokJadian 31BarengKeisya\",\n",
            "              \"15\": \"Jouska aja ampe tutup dok Terbius\",\n",
            "              \"16\": \"Masih tentang jouska\",\n",
            "              \"17\": \"Lol akun Aakar amp Jouska sudah lenyap di Instagram Miris reputasi yang dibangun dari konten konten ciamik ternyata ada sesuatu dibelakangnya lostrespect\",\n",
            "              \"18\": \"dih udh gabisa diakses lg\",\n",
            "              \"19\": \"Gegara kasus jouska gua jadi belajar kalau mau main saham dll mending titip ke\",\n",
            "              \"2\": \"Kasus bungkus membungkus mengalihkan perhatian publik dari kasus sindikasi dan jouska\",\n",
            "              \"20\": \"5 Berita Populer Finansial Gurita Jouska Direktur Amarta Investa Cuan 420 Persen Dari LUCK dan BTPN Syariah BTPS Cetak Laba Rp407 Miliar\",\n",
            "              \"21\": \"Jouska dikatakan tak bisa mendeklarasikan dirinya sebagai perencana keuangan independen sebab kenyataannya mereka memiliki hubungan dengan perusahaan efek seperti manajer investasi bahkan CEO nya menjabat komisaris di perusahaan itu\",\n",
            "              \"22\": \"Lebih insecure melihat schoters daripada jouska\",\n",
            "              \"23\": \"Ramai ramai Terperosok Lantaran Jouska\",\n",
            "              \"24\": \"lah baru tau akun jouska ilang\",\n",
            "              \"25\": \"Strategi marketing yang diterapkan PS Store mengingatkan saya pada strategi marketing yang dilakukan Jouska dalam memasarkan produknya HLKompasiana\",\n",
            "              \"26\": \"Jumlah berita yg dibikin cnbc soal kasusnya jouska itu lebih dari 50 artikel Niat banget ini redaksinya ngerjain tugasnya\",\n",
            "              \"27\": \"Ngilu bacanya Gurita Jouska Direktur Amarta Investa Cuan 420 Persen Dari LUCK\",\n",
            "              \"28\": \"id Hahaha mati bunuh diri kali\",\n",
            "              \"29\": \"N Iman I will talk if I want to Sbb kalau dia peramah mcm mna pun sya rasa penat nk dengar n smpai kadang2 termengeluh depan dowg pun Usually selected like minded with me je yg sya akn rasa leh ngam huhu\",\n",
            "              \"3\": \"iyalo aku pas ada thread jouska itu baru baca twit awal wes tak close sampe mas ku bahas itu aku ya ga paham blas\",\n",
            "              \"30\": \"Ig jouska sama ignya mas aakar udah gak ada ya\",\n",
            "              \"31\": \"Ada sebuah kesamaan sebuah kesuksesan kampanye iklan yaitu beri sentuhan personal dengan sebut nama Contoh Anies Sandi gt Pak Hadi di Muara Angke bla bla bla Jouska gt Dinda Karyawan Gaji 30 juta bla bla bla\",\n",
            "              \"32\": \"Pada bahas isu jouska tp gatahu bearish itu apa\",\n",
            "              \"33\": \"pun jouska apa dah lupa\",\n",
            "              \"34\": \"thread gilang cuma pengalihan isu jouska jangan mudah terpancing 1 1 1 1 1 1\",\n",
            "              \"35\": \"karena jouska menghilang sekarang tugas menakut nakuti soal harta kembali ke tangan tetangga\",\n",
            "              \"36\": \"Jouska tutup akun Apakah ini permanen atau temporary disabled doang ya\",\n",
            "              \"37\": \"eh tapi gua kesel bgt dah jouska sampe tutup ya walaupun sementara sedih soalnya ni akun bermanfaat bgt buat gw kenal saham2 dari ni akun juga\",\n",
            "              \"38\": \"Jouska vs Gilang Bungkus\",\n",
            "              \"39\": \"Selain itu OJK juga menghentikan dua perusahaan yang terafiliasi dengan Jouska Dua perusahan tersebut yakni PT Mahesa Strategis Indonesia dan PT Amarta Investa Indonesia selaku rekan Jouska dalam pengelolaan dana nasabah\",\n",
            "              \"4\": \"kelar baca thread gilang bungkus lebih niat baca itu timbang dishare soal jouska dan saham\",\n",
            "              \"40\": \"Jouska juga dianggap menabrak tiga undang undang sekaligus Mulai dari UU Pasar Modal UU ITE serta UU Perlindungan Konsumen\",\n",
            "              \"41\": \"Kamis 30 7 2020 tidak ada lagi akun Instagram Jouska id Hanya ditemukan pengumuman bertuliskan Sorry this page isn t available Hilangnya akun Instagram Jouska id juga bersamaan hilangnya akun twitter dengan nama yang sama\",\n",
            "              \"42\": \"Setelah akun Instagram CEO Jouska hilang dari Instagram kini giliran akun id Minjou Jouska hilang dari Instagram\",\n",
            "              \"43\": \"Berita hari ini Goodbye Akhirnya Minjou Jouska Hilang dari Instagram\",\n",
            "              \"44\": \"p Abis w main saham atut kek jouska ntar\",\n",
            "              \"45\": \"Gabung jouska\",\n",
            "              \"46\": \"Drama Jouska berganti sama Gilang Bungkus\",\n",
            "              \"47\": \"Prita Ghozie Aidil Akbar Teguh Muhammad Eko Endarto trus siapa lagi yak Dulu sih follow pas di akun yg lama Klo Jouska emang gak pernah follow Alhamdulillah\",\n",
            "              \"48\": \"Awal Mula Jouska Mengapa Sampai Disetop Operasi\",\n",
            "              \"49\": \"CNBC punya dendam apa ya sama jouska wkwk\",\n",
            "              \"5\": \"Infografik Seputar Jouska perusahaan perencana keuangan yang juga mengelola uang klien tapi klien dirugikan WaktunyaLokadata\",\n",
            "              \"6\": \"Sekarang itu lagi bener bener butuh banget financial advice Alhamdulillah temen ada yang kerja di financial planner namun bukan jouska\",\n",
            "              \"7\": \"TIPS KELOLA KEUANGAN ALA MILLENIAL BERSAMA JOUSKA MARKET REVIEW FULL via\",\n",
            "              \"8\": \"Thanks kain jarik jouska skrg napasnya agak entengan\",\n",
            "              \"9\": \"BILANG DONG KIRAIN MAH AMERTANYA JOUSKA\"\n",
            "       },\n",
            "       \"User\": {\n",
            "              \"0\": \"gilangbungkus\",\n",
            "              \"1\": \"jouska_sweet\",\n",
            "              \"10\": \"miamarifah\",\n",
            "              \"11\": \"ekkynandaputra\",\n",
            "              \"12\": \"KATADATAcoid\",\n",
            "              \"13\": \"FarelGiffari\",\n",
            "              \"14\": \"jouska_sweet\",\n",
            "              \"15\": \"3ndi\",\n",
            "              \"16\": \"satrioajie\",\n",
            "              \"17\": \"19mei_\",\n",
            "              \"18\": \"mendoanitrust\",\n",
            "              \"19\": \"rheihanlfc\",\n",
            "              \"2\": \"spamenanjr\",\n",
            "              \"20\": \"Bisniscom\",\n",
            "              \"21\": \"TirtoID\",\n",
            "              \"22\": \"JackalHoliday\",\n",
            "              \"23\": \"ambank_mr\",\n",
            "              \"24\": \"annisacan_\",\n",
            "              \"25\": \"kompasiana\",\n",
            "              \"26\": \"AdiGunarta13\",\n",
            "              \"27\": \"irfn_xyz\",\n",
            "              \"28\": \"Hmei271\",\n",
            "              \"29\": \"Magari_Jouska\",\n",
            "              \"3\": \"litanara\",\n",
            "              \"30\": \"kukuh239\",\n",
            "              \"31\": \"PSNingrum\",\n",
            "              \"32\": \"ikankodd\",\n",
            "              \"33\": \"so_vintja\",\n",
            "              \"34\": \"ladazaa\",\n",
            "              \"35\": \"makmummasjid\",\n",
            "              \"36\": \"azirizky\",\n",
            "              \"37\": \"bishamonten__\",\n",
            "              \"38\": \"lordmember\",\n",
            "              \"39\": \"kacungjalanan\",\n",
            "              \"4\": \"litanara\",\n",
            "              \"40\": \"kacungjalanan\",\n",
            "              \"41\": \"kacungjalanan\",\n",
            "              \"42\": \"kacungjalanan\",\n",
            "              \"43\": \"kacungjalanan\",\n",
            "              \"44\": \"pisangmadu\",\n",
            "              \"45\": \"Dinar13nugroho\",\n",
            "              \"46\": \"ardianofauzy\",\n",
            "              \"47\": \"ris_haswa\",\n",
            "              \"48\": \"koreisreal\",\n",
            "              \"49\": \"alyssaziya\",\n",
            "              \"5\": \"LokadataID\",\n",
            "              \"6\": \"rizqihijriah\",\n",
            "              \"7\": \"luwandiko\",\n",
            "              \"8\": \"AjiGunS\",\n",
            "              \"9\": \"wanprestation\"\n",
            "       }\n",
            "}\n"
          ],
          "name": "stdout"
        }
      ]
    },
    {
      "cell_type": "code",
      "metadata": {
        "id": "k0wxLIJc7E8x",
        "colab": {
          "base_uri": "https://localhost:8080/",
          "height": 54
        },
        "outputId": "2ac79d29-aec0-4e9c-b966-c96caf140088"
      },
      "source": [
        "print(json_data)"
      ],
      "execution_count": null,
      "outputs": [
        {
          "output_type": "stream",
          "text": [
            "{\"User\":{\"0\":\"gilangbungkus\",\"1\":\"jouska_sweet\",\"2\":\"spamenanjr\",\"3\":\"litanara\",\"4\":\"litanara\",\"5\":\"LokadataID\",\"6\":\"rizqihijriah\",\"7\":\"luwandiko\",\"8\":\"AjiGunS\",\"9\":\"wanprestation\",\"10\":\"miamarifah\",\"11\":\"ekkynandaputra\",\"12\":\"KATADATAcoid\",\"13\":\"FarelGiffari\",\"14\":\"jouska_sweet\",\"15\":\"3ndi\",\"16\":\"satrioajie\",\"17\":\"19mei_\",\"18\":\"mendoanitrust\",\"19\":\"rheihanlfc\",\"20\":\"Bisniscom\",\"21\":\"TirtoID\",\"22\":\"JackalHoliday\",\"23\":\"ambank_mr\",\"24\":\"annisacan_\",\"25\":\"kompasiana\",\"26\":\"AdiGunarta13\",\"27\":\"irfn_xyz\",\"28\":\"Hmei271\",\"29\":\"Magari_Jouska\",\"30\":\"kukuh239\",\"31\":\"PSNingrum\",\"32\":\"ikankodd\",\"33\":\"so_vintja\",\"34\":\"ladazaa\",\"35\":\"makmummasjid\",\"36\":\"azirizky\",\"37\":\"bishamonten__\",\"38\":\"lordmember\",\"39\":\"kacungjalanan\",\"40\":\"kacungjalanan\",\"41\":\"kacungjalanan\",\"42\":\"kacungjalanan\",\"43\":\"kacungjalanan\",\"44\":\"pisangmadu\",\"45\":\"Dinar13nugroho\",\"46\":\"ardianofauzy\",\"47\":\"ris_haswa\",\"48\":\"koreisreal\",\"49\":\"alyssaziya\"},\"Lokasi\":{\"0\":\"\",\"1\":\"\",\"2\":\"Jakarta-Bandung \",\"3\":\"metaverse\",\"4\":\"metaverse\",\"5\":\"Jakarta Capital Region\",\"6\":\"Jatinangor\",\"7\":\"Jakarta, IDN\",\"8\":\"Indonesia- \",\"9\":\"Bego, Nigeria\",\"10\":\"Indonesia\",\"11\":\"\",\"12\":\"Jakarta\",\"13\":\"Surabaya, East Java\",\"14\":\"\",\"15\":\"Ahh... around you....\",\"16\":\"Indonesia\",\"17\":\"\",\"18\":\"\",\"19\":\"Jakarta Timur, DKI Jakarta\",\"20\":\"Jakarta, Indonesia\",\"21\":\"Indonesia\",\"22\":\"Gelora Bandung Lautan Api\",\"23\":\"\\u00dcT: 0.0,0.0\",\"24\":\"\",\"25\":\"Indonesia\",\"26\":\"Bali\",\"27\":\"Banda Aceh, Aceh\",\"28\":\"\",\"29\":\"\",\"30\":\"Sidoarjo, East Java\",\"31\":\"Juwana, Indonesia\",\"32\":\"\\u262d\",\"33\":\"East Java, Indonesia\",\"34\":\"Kota Makassar, Sulawesi Selatan\",\"35\":\"ask.renne@gmail.com\",\"36\":\"Balikpapan - Jakarta\",\"37\":\"\",\"38\":\"West Java, Indonesia\",\"39\":\"\",\"40\":\"\",\"41\":\"\",\"42\":\"\",\"43\":\"\",\"44\":\"\",\"45\":\"karanganyar - sragen  \",\"46\":\"Indonesia\",\"47\":\"Sidoarjo - Bogor\",\"48\":\"Jakarta Capital Region, Indonesia\",\"49\":\"\"},\"Tweet\":{\"0\":\"sweet edw Dek mas boleh minta tolong\",\"1\":\"edw Bungkus aja lah lele\",\"2\":\"Kasus bungkus membungkus mengalihkan perhatian publik dari kasus sindikasi dan jouska\",\"3\":\"iyalo aku pas ada thread jouska itu baru baca twit awal wes tak close sampe mas ku bahas itu aku ya ga paham blas\",\"4\":\"kelar baca thread gilang bungkus lebih niat baca itu timbang dishare soal jouska dan saham\",\"5\":\"Infografik Seputar Jouska perusahaan perencana keuangan yang juga mengelola uang klien tapi klien dirugikan WaktunyaLokadata\",\"6\":\"Sekarang itu lagi bener bener butuh banget financial advice Alhamdulillah temen ada yang kerja di financial planner namun bukan jouska\",\"7\":\"TIPS KELOLA KEUANGAN ALA MILLENIAL BERSAMA JOUSKA MARKET REVIEW FULL via\",\"8\":\"Thanks kain jarik jouska skrg napasnya agak entengan\",\"9\":\"BILANG DONG KIRAIN MAH AMERTANYA JOUSKA\",\"10\":\"Can anybody tell jouska ini masalahnya apa aja sih\",\"11\":\"Gara gara perbungkusan jadi lupa kasus Jouska pake sendal ke cafe pendaratan di bulan korek yg ilang di tongkrongan\",\"12\":\"Satgas Waspada Investasi menyetop operasional Jouska karena tak memiliki izin Ini lima aplikasi perencana keuangan alternatif\",\"13\":\"Sanksi sosial sekejam itu ya setelah liat efek kasusnya jouska pstore sampe gilang bungkus\",\"14\":\"Cuyungg BesokJadian 31BarengKeisya\",\"15\":\"Jouska aja ampe tutup dok Terbius\",\"16\":\"Masih tentang jouska\",\"17\":\"Lol akun Aakar amp Jouska sudah lenyap di Instagram Miris reputasi yang dibangun dari konten konten ciamik ternyata ada sesuatu dibelakangnya lostrespect\",\"18\":\"dih udh gabisa diakses lg\",\"19\":\"Gegara kasus jouska gua jadi belajar kalau mau main saham dll mending titip ke\",\"20\":\"5 Berita Populer Finansial Gurita Jouska Direktur Amarta Investa Cuan 420 Persen Dari LUCK dan BTPN Syariah BTPS Cetak Laba Rp407 Miliar\",\"21\":\"Jouska dikatakan tak bisa mendeklarasikan dirinya sebagai perencana keuangan independen sebab kenyataannya mereka memiliki hubungan dengan perusahaan efek seperti manajer investasi bahkan CEO nya menjabat komisaris di perusahaan itu\",\"22\":\"Lebih insecure melihat schoters daripada jouska\",\"23\":\"Ramai ramai Terperosok Lantaran Jouska\",\"24\":\"lah baru tau akun jouska ilang\",\"25\":\"Strategi marketing yang diterapkan PS Store mengingatkan saya pada strategi marketing yang dilakukan Jouska dalam memasarkan produknya HLKompasiana\",\"26\":\"Jumlah berita yg dibikin cnbc soal kasusnya jouska itu lebih dari 50 artikel Niat banget ini redaksinya ngerjain tugasnya\",\"27\":\"Ngilu bacanya Gurita Jouska Direktur Amarta Investa Cuan 420 Persen Dari LUCK\",\"28\":\"id Hahaha mati bunuh diri kali\",\"29\":\"N Iman I will talk if I want to Sbb kalau dia peramah mcm mna pun sya rasa penat nk dengar n smpai kadang2 termengeluh depan dowg pun Usually selected like minded with me je yg sya akn rasa leh ngam huhu\",\"30\":\"Ig jouska sama ignya mas aakar udah gak ada ya\",\"31\":\"Ada sebuah kesamaan sebuah kesuksesan kampanye iklan yaitu beri sentuhan personal dengan sebut nama Contoh Anies Sandi gt Pak Hadi di Muara Angke bla bla bla Jouska gt Dinda Karyawan Gaji 30 juta bla bla bla\",\"32\":\"Pada bahas isu jouska tp gatahu bearish itu apa\",\"33\":\"pun jouska apa dah lupa\",\"34\":\"thread gilang cuma pengalihan isu jouska jangan mudah terpancing 1 1 1 1 1 1\",\"35\":\"karena jouska menghilang sekarang tugas menakut nakuti soal harta kembali ke tangan tetangga\",\"36\":\"Jouska tutup akun Apakah ini permanen atau temporary disabled doang ya\",\"37\":\"eh tapi gua kesel bgt dah jouska sampe tutup ya walaupun sementara sedih soalnya ni akun bermanfaat bgt buat gw kenal saham2 dari ni akun juga\",\"38\":\"Jouska vs Gilang Bungkus\",\"39\":\"Selain itu OJK juga menghentikan dua perusahaan yang terafiliasi dengan Jouska Dua perusahan tersebut yakni PT Mahesa Strategis Indonesia dan PT Amarta Investa Indonesia selaku rekan Jouska dalam pengelolaan dana nasabah\",\"40\":\"Jouska juga dianggap menabrak tiga undang undang sekaligus Mulai dari UU Pasar Modal UU ITE serta UU Perlindungan Konsumen\",\"41\":\"Kamis 30 7 2020 tidak ada lagi akun Instagram Jouska id Hanya ditemukan pengumuman bertuliskan Sorry this page isn t available Hilangnya akun Instagram Jouska id juga bersamaan hilangnya akun twitter dengan nama yang sama\",\"42\":\"Setelah akun Instagram CEO Jouska hilang dari Instagram kini giliran akun id Minjou Jouska hilang dari Instagram\",\"43\":\"Berita hari ini Goodbye Akhirnya Minjou Jouska Hilang dari Instagram\",\"44\":\"p Abis w main saham atut kek jouska ntar\",\"45\":\"Gabung jouska\",\"46\":\"Drama Jouska berganti sama Gilang Bungkus\",\"47\":\"Prita Ghozie Aidil Akbar Teguh Muhammad Eko Endarto trus siapa lagi yak Dulu sih follow pas di akun yg lama Klo Jouska emang gak pernah follow Alhamdulillah\",\"48\":\"Awal Mula Jouska Mengapa Sampai Disetop Operasi\",\"49\":\"CNBC punya dendam apa ya sama jouska wkwk\"}}\n"
          ],
          "name": "stdout"
        }
      ]
    },
    {
      "cell_type": "code",
      "metadata": {
        "id": "4Fk5QdhI-nfW"
      },
      "source": [
        "pos_list= open(\"kata_positif.txt\",\"r\")\n",
        "pos_kata = pos_list.readlines()\n",
        "neg_list= open(\"kata_negatif.txt\",\"r\")\n",
        "neg_kata = neg_list.readlines()\n",
        "\n",
        "S = []\n",
        "for item in items:\n",
        "  count_p = 0\n",
        "  count_n = 0\n",
        "  for kata_pos in pos_kata:\n",
        "    if kata_pos.strip() in item[0]:\n",
        "      count_p +=1\n",
        "  for kata_neg in neg_kata:\n",
        "    if kata_neg.strip() in item[0]:\n",
        "      count_n +=1\n",
        "  S.append(count_p - count_n)\n",
        "#print (\"positif: \"+str(count_p))\n",
        "#print (\"negatif: \"+str(count_n))"
      ],
      "execution_count": null,
      "outputs": []
    },
    {
      "cell_type": "code",
      "metadata": {
        "id": "yUs5brx_DxOY"
      },
      "source": [
        "hasil[\"value\"] = S\n",
        "print (\"Nilai rata-rata: \"+str(np.mean(hasil[\"value\"])))\n",
        "print (\"Standar deviasi: \"+str(np.std(hasil[\"value\"])))"
      ],
      "execution_count": null,
      "outputs": []
    },
    {
      "cell_type": "code",
      "metadata": {
        "id": "3EAd6XZnD6hz",
        "colab": {
          "base_uri": "https://localhost:8080/",
          "height": 498
        },
        "outputId": "ef5e0858-fbe3-4db0-d452-af7150367514"
      },
      "source": [
        "labels, counts = np.unique(hasil[\"value\"], return_counts=True)\n",
        "fig, ax=plt.subplots(figsize=(16,8))\n",
        "plt.title('Sentimen Masyarakat Terhadap Penipuan Jouska')\n",
        "plt.bar(labels, counts, align='center')\n",
        "plt.gca().set_xticks(labels)\n",
        "plt.show()"
      ],
      "execution_count": null,
      "outputs": [
        {
          "output_type": "display_data",
          "data": {
            "image/png": "[encoded data removed]",
            "text/plain": [
              "<Figure size 1152x576 with 1 Axes>"
            ]
          },
          "metadata": {
            "tags": [],
            "needs_background": "light"
          }
        }
      ]
    }
  ]
}